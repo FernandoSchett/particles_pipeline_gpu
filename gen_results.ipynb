{
 "cells": [
  {
   "cell_type": "markdown",
   "id": "065f3d43",
   "metadata": {},
   "source": [
    "# Weak and Strong Scaling — Setup"
   ]
  },
  {
   "cell_type": "code",
   "execution_count": null,
   "id": "ead18596",
   "metadata": {
    "lines_to_next_cell": 0
   },
   "outputs": [],
   "source": [
    "import pandas as pd\n",
    "import matplotlib.pyplot as plt\n",
    "import numpy as np\n",
    "from pathlib import Path\n",
    "import math\n",
    "\n",
    "BASE_RESULTS_DIR = Path(\"results\")\n",
    "BASE_RESULTS_DIR.mkdir(parents=True, exist_ok=True)\n",
    "\n",
    "CPU_CORES_PER_NODE = 128\n",
    "GPUS_PER_NODE = 4\n",
    "\n",
    "def prepare_data(csv_file, prefix, baseline_nprocs=None):\n",
    "    results_dir = BASE_RESULTS_DIR / prefix\n",
    "    results_dir.mkdir(parents=True, exist_ok=True)\n",
    "\n",
    "    df = pd.read_csv(csv_file, parse_dates=[\"datetime\"])\n",
    "    # CSV agora já tem total_time\n",
    "    # colunas esperadas:\n",
    "    # datetime,power,total_particles,length_per_rank,num_procs,box_length,RAM_GB,gen_time,splitters_time,dist_time,total_time,device,seed,mode\n",
    "\n",
    "    counts = df.groupby([\"device\",\"power\",\"num_procs\"]).size()\n",
    "    print(f\"[{prefix}] Runs per configuration:\")\n",
    "    print(counts)\n",
    "\n",
    "    summary = (\n",
    "        df.groupby([\"device\",\"power\",\"num_procs\"], as_index=False)\n",
    "          .agg(\n",
    "              gen_mean=(\"gen_time\",\"mean\"),           gen_std=(\"gen_time\",\"std\"),\n",
    "              split_mean=(\"splitters_time\",\"mean\"),   split_std=(\"splitters_time\",\"std\"),\n",
    "              dist_mean=(\"dist_time\",\"mean\"),         dist_std=(\"dist_time\",\"std\"),\n",
    "              total_mean=(\"total_time\",\"mean\"),       total_std=(\"total_time\",\"std\"),\n",
    "              runs=(\"total_time\",\"count\")\n",
    "          )\n",
    "    )\n",
    "\n",
    "    def calc_nodes(row):\n",
    "        dev = str(row[\"device\"]).lower()\n",
    "        if dev == \"cpu\":\n",
    "            return int(math.ceil(row[\"num_procs\"] / float(CPU_CORES_PER_NODE)))\n",
    "        else:\n",
    "            return int(math.ceil(row[\"num_procs\"] / float(GPUS_PER_NODE)))\n",
    "    summary[\"nodes\"] = summary.apply(calc_nodes, axis=1)\n",
    "\n",
    "    cpu_only = summary[summary[\"device\"] == \"cpu\"].copy()\n",
    "    if baseline_nprocs is None:\n",
    "        cpu_base = (cpu_only.sort_values([\"power\",\"num_procs\"])\n",
    "                            .groupby(\"power\", as_index=False)\n",
    "                            .first())\n",
    "    else:\n",
    "        cpu_base = cpu_only[cpu_only[\"num_procs\"] == baseline_nprocs].copy()\n",
    "        if cpu_base.empty:\n",
    "            raise ValueError(f\"No CPU baseline with num_procs={baseline_nprocs}.\")\n",
    "\n",
    "    cpu_base = cpu_base.rename(columns={\n",
    "        \"num_procs\":\"cpu_base_nprocs\",\n",
    "        \"gen_mean\":\"gen_cpu\",\"gen_std\":\"gen_cpu_std\",\n",
    "        \"split_mean\":\"split_cpu\",\"split_std\":\"split_cpu_std\",\n",
    "        \"dist_mean\":\"dist_cpu\",\"dist_std\":\"dist_cpu_std\",\n",
    "        \"total_mean\":\"total_cpu\",\"total_std\":\"total_cpu_std\",\n",
    "    })[[\"power\",\"cpu_base_nprocs\",\"gen_cpu\",\"gen_cpu_std\",\"split_cpu\",\"split_cpu_std\",\"dist_cpu\",\"dist_cpu_std\",\"total_cpu\",\"total_cpu_std\"]]\n",
    "\n",
    "    with_base = summary.merge(cpu_base, on=\"power\", how=\"inner\")\n",
    "\n",
    "    def ratio(a,b): \n",
    "        a = np.asarray(a, float); b = np.asarray(b, float)\n",
    "        out = np.full_like(a, np.nan, dtype=float)\n",
    "        ok = (b > 0) & np.isfinite(b)\n",
    "        out[ok] = a[ok] / b[ok]\n",
    "        return out\n",
    "\n",
    "    def ratio_std(a,sa,b,sb):\n",
    "        a = np.asarray(a, float); sa = np.asarray(sa, float)\n",
    "        b = np.asarray(b, float); sb = np.asarray(sb, float)\n",
    "        s = ratio(a,b)\n",
    "        out = np.full_like(s, np.nan, dtype=float)\n",
    "        ok = (a>0)&(b>0)&np.isfinite(a)&np.isfinite(b)\n",
    "        out[ok] = s[ok] * np.sqrt( (sa[ok]/a[ok])**2 + (sb[ok]/b[ok])**2 )\n",
    "        return out\n",
    "\n",
    "    with_base[\"speedup_gen\"]     = ratio(with_base[\"gen_cpu\"],   with_base[\"gen_mean\"])\n",
    "    with_base[\"speedup_gen_s\"]   = ratio_std(with_base[\"gen_cpu\"], with_base[\"gen_cpu_std\"], with_base[\"gen_mean\"], with_base[\"gen_std\"])\n",
    "\n",
    "    with_base[\"speedup_split\"]   = ratio(with_base[\"split_cpu\"], with_base[\"split_mean\"])\n",
    "    with_base[\"speedup_split_s\"] = ratio_std(with_base[\"split_cpu\"], with_base[\"split_cpu_std\"], with_base[\"split_mean\"], with_base[\"split_std\"])\n",
    "\n",
    "    with_base[\"speedup_dist\"]    = ratio(with_base[\"dist_cpu\"],  with_base[\"dist_mean\"])\n",
    "    with_base[\"speedup_dist_s\"]  = ratio_std(with_base[\"dist_cpu\"], with_base[\"dist_cpu_std\"], with_base[\"dist_mean\"], with_base[\"dist_std\"])\n",
    "\n",
    "    with_base[\"speedup_total\"]   = ratio(with_base[\"total_cpu\"], with_base[\"total_mean\"])\n",
    "    with_base[\"speedup_total_s\"] = ratio_std(with_base[\"total_cpu\"], with_base[\"total_cpu_std\"], with_base[\"total_mean\"], with_base[\"total_std\"])\n",
    "\n",
    "    return df, summary, with_base, results_dir\n",
    "\n",
    "def savefig(results_dir, name):\n",
    "    plt.tight_layout()\n",
    "    plt.savefig(results_dir / f\"{name}.png\", dpi=150)\n",
    "    plt.show()\n",
    "    plt.close()"
   ]
  },
  {
   "cell_type": "markdown",
   "id": "7c7959ea",
   "metadata": {},
   "source": [
    "## Load data (choose weak or strong)"
   ]
  },
  {
   "cell_type": "code",
   "execution_count": null,
   "id": "782238ed",
   "metadata": {},
   "outputs": [],
   "source": [
    "# Choose one:\n",
    "# df, summary, with_base, results_dir = prepare_data(\"results_strong.csv\", \"strong\")\n",
    "df, summary, with_base, results_dir = prepare_data(\"results_weak.csv\", \"weak\")"
   ]
  },
  {
   "cell_type": "markdown",
   "id": "e56f3eea",
   "metadata": {},
   "source": [
    "## Bar chart — Total time per run (categorical X)"
   ]
  },
  {
   "cell_type": "code",
   "execution_count": null,
   "id": "5c916772",
   "metadata": {},
   "outputs": [],
   "source": [
    "plt.figure(figsize=(12, 6))\n",
    "for i, (key, group) in enumerate(df.groupby([\"device\",\"power\",\"num_procs\"])):\n",
    "    label = f\"{key[0]}_p{key[1]}_np{key[2]}\"\n",
    "    xpos = range(i*len(group), (i+1)*len(group))\n",
    "    plt.bar(xpos, group[\"total_time\"], label=label)\n",
    "tick_positions, tick_labels = [], []\n",
    "for i, (key, group) in enumerate(df.groupby([\"device\",\"power\",\"num_procs\"])):\n",
    "    center = i*len(group) + len(group)/2 - 0.5\n",
    "    tick_positions.append(center)\n",
    "    tick_labels.append(f\"{key[0]}_p{key[1]}_np{key[2]}\")\n",
    "plt.xticks(tick_positions, tick_labels, rotation=20, ha=\"right\")\n",
    "plt.ylabel(\"Total time (s)\")\n",
    "plt.xlabel(\"Runs\")\n",
    "plt.title(\"Total time per run (5 runs expected per configuration)\")\n",
    "plt.legend(bbox_to_anchor=(1.05, 1), loc=\"upper left\")\n",
    "savefig(results_dir, \"bars_total_time\")"
   ]
  },
  {
   "cell_type": "markdown",
   "id": "80ac9eaa",
   "metadata": {},
   "source": [
    "## Mean time vs processors — Distribution"
   ]
  },
  {
   "cell_type": "code",
   "execution_count": null,
   "id": "cfe83c45",
   "metadata": {},
   "outputs": [],
   "source": [
    "plt.figure(figsize=(8,5))\n",
    "for dev in summary[\"device\"].unique():\n",
    "    sub = summary[summary[\"device\"] == dev].sort_values(\"num_procs\")\n",
    "    plt.errorbar(sub[\"num_procs\"], sub[\"dist_mean\"], yerr=sub[\"dist_std\"], marker=\"o\", capsize=4, label=f\"{dev} (dist)\")\n",
    "plt.xscale(\"log\")\n",
    "plt.xlabel(\"Number of processors\")\n",
    "plt.ylabel(\"Distribution time (s)\")\n",
    "plt.title(\"CPU vs GPU — Distribution\")\n",
    "plt.legend(); plt.grid(True, which=\"both\", ls=\":\")\n",
    "savefig(results_dir, \"distribution_time\")"
   ]
  },
  {
   "cell_type": "markdown",
   "id": "8039dabe",
   "metadata": {},
   "source": [
    "## Mean time vs processors — Splitters (partitioning/selection)"
   ]
  },
  {
   "cell_type": "code",
   "execution_count": null,
   "id": "cdeb6ee4",
   "metadata": {},
   "outputs": [],
   "source": [
    "plt.figure(figsize=(8,5))\n",
    "for dev in summary[\"device\"].unique():\n",
    "    sub = summary[summary[\"device\"] == dev].sort_values(\"num_procs\")\n",
    "    plt.errorbar(sub[\"num_procs\"], sub[\"split_mean\"], yerr=sub[\"split_std\"], marker=\"o\", capsize=4, label=f\"{dev} (split)\")\n",
    "plt.xscale(\"log\")\n",
    "plt.xlabel(\"Number of processors\")\n",
    "plt.ylabel(\"Splitters time (s)\")\n",
    "plt.title(\"CPU vs GPU — Splitters\")\n",
    "plt.legend(); plt.grid(True, which=\"both\", ls=\":\")\n",
    "savefig(results_dir, \"splitters_time\")"
   ]
  },
  {
   "cell_type": "markdown",
   "id": "dc44dc20",
   "metadata": {},
   "source": [
    "## Mean time vs processors — Generation"
   ]
  },
  {
   "cell_type": "code",
   "execution_count": null,
   "id": "9ea3f69c",
   "metadata": {
    "lines_to_next_cell": 2
   },
   "outputs": [],
   "source": [
    "plt.figure(figsize=(8,5))\n",
    "for dev in summary[\"device\"].unique():\n",
    "    sub = summary[summary[\"device\"] == dev].sort_values(\"num_procs\")\n",
    "    plt.errorbar(sub[\"num_procs\"], sub[\"gen_mean\"], yerr=sub[\"gen_std\"], marker=\"o\", capsize=4, label=f\"{dev} (gen)\")\n",
    "plt.xscale(\"log\")\n",
    "plt.xlabel(\"Number of processors\")\n",
    "plt.ylabel(\"Generation time (s)\")\n",
    "plt.title(\"CPU vs GPU — Generation\")\n",
    "plt.legend(); plt.grid(True, which=\"both\", ls=\":\")\n",
    "savefig(results_dir, \"generation_time\")"
   ]
  },
  {
   "cell_type": "markdown",
   "id": "7a6b504c",
   "metadata": {},
   "source": [
    "## Mean time vs processors — Total"
   ]
  },
  {
   "cell_type": "code",
   "execution_count": null,
   "id": "08617a1c",
   "metadata": {},
   "outputs": [],
   "source": [
    "plt.figure(figsize=(8,5))\n",
    "for dev in summary[\"device\"].unique():\n",
    "    sub = summary[summary[\"device\"] == dev].sort_values(\"num_procs\")\n",
    "    plt.errorbar(sub[\"num_procs\"], sub[\"total_mean\"], yerr=sub[\"total_std\"], marker=\"o\", capsize=4, label=f\"{dev} (total)\")\n",
    "plt.xscale(\"log\")\n",
    "plt.xlabel(\"Number of processors\")\n",
    "plt.ylabel(\"Total time (s)\")\n",
    "plt.title(\"CPU vs GPU — Total\")\n",
    "plt.legend(); plt.grid(True, which=\"both\", ls=\":\")\n",
    "savefig(results_dir, \"total_time\")\n",
    "\\# %% [markdown]\n",
    "# ## Speedup vs processors — Distribution"
   ]
  },
  {
   "cell_type": "code",
   "execution_count": null,
   "id": "c7026351",
   "metadata": {},
   "outputs": [],
   "source": [
    "plt.figure(figsize=(8,5))\n",
    "for dev in with_base[\"device\"].unique():\n",
    "    sub = with_base[with_base[\"device\"] == dev].sort_values(\"num_procs\")\n",
    "    plt.errorbar(sub[\"num_procs\"], sub[\"speedup_dist\"], yerr=sub[\"speedup_dist_s\"], marker=\"o\", capsize=4, label=dev)\n",
    "plt.axhline(1.0, ls=\"--\", lw=1)\n",
    "for pw in sorted(with_base[\"power\"].unique()):\n",
    "    g = with_base[with_base[\"power\"] == pw]\n",
    "    if g.empty: continue\n",
    "    nref = g[\"cpu_base_nprocs\"].iloc[0]\n",
    "    xs = sorted(g[\"num_procs\"].unique())\n",
    "    ys = [x/nref for x in xs]\n",
    "    plt.plot(xs, ys, ls=\":\", lw=1.5, label=f\"Ideal (p{pw}, N/Nref={nref})\")\n",
    "plt.xscale(\"log\")\n",
    "plt.xlabel(\"Number of processors\")\n",
    "plt.ylabel(\"Speedup (distribution)\")\n",
    "plt.title(\"Speedup vs CPU (Distribution)\")\n",
    "plt.legend(); plt.grid(True, which=\"both\", ls=\":\")\n",
    "savefig(results_dir, \"speedup_distribution\")"
   ]
  },
  {
   "cell_type": "markdown",
   "id": "05170ee3",
   "metadata": {},
   "source": [
    "## Speedup vs processors — Splitters"
   ]
  },
  {
   "cell_type": "code",
   "execution_count": null,
   "id": "6baa9dd6",
   "metadata": {},
   "outputs": [],
   "source": [
    "plt.figure(figsize=(8,5))\n",
    "for dev in with_base[\"device\"].unique():\n",
    "    sub = with_base[with_base[\"device\"] == dev].sort_values(\"num_procs\")\n",
    "    plt.errorbar(sub[\"num_procs\"], sub[\"speedup_split\"], yerr=sub[\"speedup_split_s\"], marker=\"o\", capsize=4, label=dev)\n",
    "plt.axhline(1.0, ls=\"--\", lw=1)\n",
    "for pw in sorted(with_base[\"power\"].unique()):\n",
    "    g = with_base[with_base[\"power\"] == pw]\n",
    "    if g.empty: continue\n",
    "    nref = g[\"cpu_base_nprocs\"].iloc[0]\n",
    "    xs = sorted(g[\"num_procs\"].unique())\n",
    "    ys = [x/nref for x in xs]\n",
    "    plt.plot(xs, ys, ls=\":\", lw=1.5, label=f\"Ideal (p{pw}, N/Nref={nref})\")\n",
    "plt.xscale(\"log\")\n",
    "plt.xlabel(\"Number of processors\")\n",
    "plt.ylabel(\"Speedup (splitters)\")\n",
    "plt.title(\"Speedup vs CPU (Splitters)\")\n",
    "plt.legend(); plt.grid(True, which=\"both\", ls=\":\")\n",
    "savefig(results_dir, \"speedup_splitters\")"
   ]
  },
  {
   "cell_type": "markdown",
   "id": "c1ac99c9",
   "metadata": {},
   "source": [
    "## Speedup vs processors — Generation"
   ]
  },
  {
   "cell_type": "code",
   "execution_count": null,
   "id": "7c2eaa7e",
   "metadata": {
    "lines_to_next_cell": 2
   },
   "outputs": [],
   "source": [
    "plt.figure(figsize=(8,5))\n",
    "for dev in with_base[\"device\"].unique():\n",
    "    sub = with_base[with_base[\"device\"] == dev].sort_values(\"num_procs\")\n",
    "    plt.errorbar(sub[\"num_procs\"], sub[\"speedup_gen\"], yerr=sub[\"speedup_gen_s\"], marker=\"o\", capsize=4, label=dev)\n",
    "plt.axhline(1.0, ls=\"--\", lw=1)\n",
    "for pw in sorted(with_base[\"power\"].unique()):\n",
    "    g = with_base[with_base[\"power\"] == pw]\n",
    "    if g.empty: continue\n",
    "    nref = g[\"cpu_base_nprocs\"].iloc[0]\n",
    "    xs = sorted(g[\"num_procs\"].unique())\n",
    "    ys = [x/nref for x in xs]\n",
    "    plt.plot(xs, ys, ls=\":\", lw=1.5, label=f\"Ideal (p{pw}, N/Nref={nref})\")\n",
    "plt.xscale(\"log\")\n",
    "plt.xlabel(\"Number of processors\")\n",
    "plt.ylabel(\"Speedup (generation)\")\n",
    "plt.title(\"Speedup vs CPU (Generation)\")\n",
    "plt.legend(); plt.grid(True, which=\"both\", ls=\":\")\n",
    "savefig(results_dir, \"speedup_generation\")"
   ]
  },
  {
   "cell_type": "markdown",
   "id": "e1e18e87",
   "metadata": {},
   "source": [
    "## Speedup vs processors — Total"
   ]
  },
  {
   "cell_type": "code",
   "execution_count": null,
   "id": "e6220441",
   "metadata": {
    "lines_to_next_cell": 2
   },
   "outputs": [],
   "source": [
    "plt.figure(figsize=(8,5))\n",
    "for dev in with_base[\"device\"].unique():\n",
    "    sub = with_base[with_base[\"device\"] == dev].sort_values(\"num_procs\")\n",
    "    plt.errorbar(sub[\"num_procs\"], sub[\"speedup_total\"], yerr=sub[\"speedup_total_s\"], marker=\"o\", capsize=4, label=dev)\n",
    "plt.axhline(1.0, ls=\"--\", lw=1)\n",
    "for pw in sorted(with_base[\"power\"].unique()):\n",
    "    g = with_base[with_base[\"power\"] == pw]\n",
    "    if g.empty: continue\n",
    "    nref = g[\"cpu_base_nprocs\"].iloc[0]\n",
    "    xs = sorted(g[\"num_procs\"].unique())\n",
    "    ys = [x/nref for x in xs]\n",
    "    plt.plot(xs, ys, ls=\":\", lw=1.5, label=f\"Ideal (p{pw}, N/Nref={nref})\")\n",
    "plt.xscale(\"log\")\n",
    "plt.xlabel(\"Number of processors\")\n",
    "plt.ylabel(\"Speedup (total)\")\n",
    "plt.title(\"Speedup vs CPU (Total)\")\n",
    "plt.legend(); plt.grid(True, which=\"both\", ls=\":\")\n",
    "savefig(results_dir, \"speedup_total\")"
   ]
  },
  {
   "cell_type": "markdown",
   "id": "fbd850b3",
   "metadata": {},
   "source": [
    "## Speedup vs processors — Total"
   ]
  },
  {
   "cell_type": "code",
   "execution_count": null,
   "id": "c9d61a2e",
   "metadata": {
    "lines_to_next_cell": 2
   },
   "outputs": [],
   "source": [
    "plt.figure(figsize=(8,5))\n",
    "for dev in with_base[\"device\"].unique():\n",
    "    sub = with_base[with_base[\"device\"] == dev].sort_values(\"num_procs\")\n",
    "    plt.errorbar(sub[\"num_procs\"], sub[\"speedup_total\"], yerr=sub[\"speedup_total_s\"], marker=\"o\", capsize=4, label=dev)\n",
    "plt.axhline(1.0, ls=\"--\", lw=1)\n",
    "for pw in sorted(with_base[\"power\"].unique()):\n",
    "    g = with_base[with_base[\"power\"] == pw]\n",
    "    if g.empty: continue\n",
    "    nref = g[\"cpu_base_nprocs\"].iloc[0]\n",
    "    xs = sorted(g[\"num_procs\"].unique())\n",
    "    ys = [x/nref for x in xs]\n",
    "    plt.plot(xs, ys, ls=\":\", lw=1.5, label=f\"Ideal (p{pw}, N/Nref={nref})\")\n",
    "plt.xscale(\"log\")\n",
    "plt.xlabel(\"Number of processors\")\n",
    "plt.ylabel(\"Speedup (total)\")\n",
    "plt.title(\"Speedup vs CPU (Total)\")\n",
    "plt.legend(); plt.grid(True, which=\"both\", ls=\":\")\n",
    "savefig(results_dir, \"speedup_total\")"
   ]
  },
  {
   "cell_type": "markdown",
   "id": "d96e90d6",
   "metadata": {},
   "source": [
    "## Parallel efficiency — Total"
   ]
  },
  {
   "cell_type": "code",
   "execution_count": null,
   "id": "58bf99f5",
   "metadata": {},
   "outputs": [],
   "source": [
    "ref = (summary.sort_values([\"device\",\"power\",\"num_procs\"])\n",
    "              .groupby([\"device\",\"power\"],as_index=False)\n",
    "              .first())\n",
    "ref_total = ref.rename(columns={\"num_procs\":\"n_ref\",\"total_mean\":\"t_ref\",\"total_std\":\"s_ref\"})[[\"device\",\"power\",\"n_ref\",\"t_ref\",\"s_ref\"]]\n",
    "eff_total = summary.merge(ref_total,on=[\"device\",\"power\"],how=\"inner\")\n",
    "eff_total[\"eff_strong\"] = (eff_total[\"t_ref\"]*eff_total[\"n_ref\"])/(eff_total[\"total_mean\"]*eff_total[\"num_procs\"])\n",
    "good = (eff_total[\"t_ref\"]>0)&(eff_total[\"total_mean\"]>0)&np.isfinite(eff_total[\"t_ref\"])&np.isfinite(eff_total[\"total_mean\"])\n",
    "eff_total[\"eff_strong_s\"] = np.nan\n",
    "eff_total.loc[good,\"eff_strong_s\"] = eff_total.loc[good,\"eff_strong\"]*np.sqrt(\n",
    "    (eff_total.loc[good,\"s_ref\"]/eff_total[\"t_ref\"])**2 + (eff_total.loc[good,\"total_std\"]/eff_total[\"total_mean\"])**2\n",
    ")\n",
    "\n",
    "plt.figure(figsize=(8,5))\n",
    "for (dev,pw), g in eff_total.sort_values(\"num_procs\").groupby([\"device\",\"power\"]):\n",
    "    plt.errorbar(g[\"num_procs\"], g[\"eff_strong\"], yerr=g[\"eff_strong_s\"], marker=\"o\", capsize=4, label=f\"{dev} (p{pw})\")\n",
    "plt.axhline(1.0, ls=\"--\")\n",
    "plt.xscale(\"log\")\n",
    "plt.xlabel(\"Number of processors\")\n",
    "plt.ylabel(\"Parallel efficiency (strong)\")\n",
    "plt.title(\"Parallel efficiency (Total)\")\n",
    "plt.legend(); plt.grid(True, which=\"both\", ls=\":\")\n",
    "savefig(results_dir, \"efficiency_total\")"
   ]
  },
  {
   "cell_type": "markdown",
   "id": "73e929b7",
   "metadata": {},
   "source": [
    "## Parallel efficiency — Distribution / Generation / Splitters"
   ]
  },
  {
   "cell_type": "code",
   "execution_count": null,
   "id": "ea6c53c0",
   "metadata": {},
   "outputs": [],
   "source": [
    "def plot_eff(mean_col, std_col, title, fname):\n",
    "    ref_x = ref.rename(columns={\"num_procs\":\"n_ref\", mean_col:\"t_ref\", std_col:\"s_ref\"})[[\"device\",\"power\",\"n_ref\",\"t_ref\",\"s_ref\"]]\n",
    "    e2 = summary.merge(ref_x,on=[\"device\",\"power\"],how=\"inner\")\n",
    "    e2[\"eff\"] = (e2[\"t_ref\"]*e2[\"n_ref\"])/(e2[mean_col]*e2[\"num_procs\"])\n",
    "    good = (e2[\"t_ref\"]>0)&(e2[mean_col]>0)&np.isfinite(e2[\"t_ref\"])&np.isfinite(e2[mean_col])\n",
    "    e2[\"eff_s\"] = np.nan\n",
    "    e2.loc[good,\"eff_s\"] = e2.loc[good,\"eff\"]*np.sqrt((e2.loc[good,\"s_ref\"]/e2.loc[good,\"t_ref\"])**2+(e2.loc[good,std_col]/e2.loc[good,mean_col])**2)\n",
    "    plt.figure(figsize=(8,5))\n",
    "    for (dev,pw), g in e2.sort_values(\"num_procs\").groupby([\"device\",\"power\"]):\n",
    "        plt.errorbar(g[\"num_procs\"], g[\"eff\"], yerr=g[\"eff_s\"], marker=\"o\", capsize=4, label=f\"{dev} (p{pw})\")\n",
    "    plt.axhline(1.0, ls=\"--\")\n",
    "    plt.xscale(\"log\")\n",
    "    plt.xlabel(\"Number of processors\")\n",
    "    plt.ylabel(\"Parallel efficiency (strong)\")\n",
    "    plt.title(title)\n",
    "    plt.legend(); plt.grid(True, which=\"both\", ls=\":\")\n",
    "    savefig(results_dir, fname)\n",
    "\n",
    "plot_eff(\"dist_mean\",\"dist_std\",\"Parallel efficiency — Distribution\",\"efficiency_distribution\")\n",
    "plot_eff(\"gen_mean\",\"gen_std\",\"Parallel efficiency — Generation\",\"efficiency_generation\")\n",
    "plot_eff(\"split_mean\",\"split_std\",\"Parallel efficiency — Splitters\",\"efficiency_splitters\")"
   ]
  },
  {
   "cell_type": "markdown",
   "id": "d029e432",
   "metadata": {},
   "source": [
    "## Time vs nodes — Distribution"
   ]
  },
  {
   "cell_type": "code",
   "execution_count": null,
   "id": "0ba2e6f7",
   "metadata": {},
   "outputs": [],
   "source": [
    "plt.figure(figsize=(8,5))\n",
    "agg = (summary.groupby([\"device\",\"power\",\"nodes\"], as_index=False)\n",
    "             .agg(y_mean=(\"dist_mean\",\"mean\"), y_std=(\"dist_std\",\"mean\")))\n",
    "for (dev,pw), g in agg.sort_values([\"nodes\"]).groupby([\"device\",\"power\"]):\n",
    "    plt.errorbar(g[\"nodes\"], g[\"y_mean\"], yerr=g[\"y_std\"], marker=\"o\", capsize=4, label=f\"{dev} (p{pw})\")\n",
    "plt.xlabel(\"Number of nodes used\")\n",
    "plt.ylabel(\"Distribution time (s)\")\n",
    "plt.title(\"Distribution time vs nodes used\")\n",
    "plt.grid(True, ls=\":\"); plt.legend()\n",
    "savefig(results_dir, \"time_vs_nodes_distribution\")"
   ]
  },
  {
   "cell_type": "markdown",
   "id": "5214e323",
   "metadata": {},
   "source": [
    "## Time vs nodes — Distribution"
   ]
  },
  {
   "cell_type": "code",
   "execution_count": null,
   "id": "251219a9",
   "metadata": {},
   "outputs": [],
   "source": [
    "plt.figure(figsize=(8,5))\n",
    "agg = (summary.groupby([\"device\",\"power\",\"nodes\"], as_index=False)\n",
    "             .agg(y_mean=(\"dist_mean\",\"mean\"), y_std=(\"dist_std\",\"mean\")))\n",
    "for (dev,pw), g in agg.sort_values([\"nodes\"]).groupby([\"device\",\"power\"]):\n",
    "    plt.errorbar(g[\"nodes\"], g[\"y_mean\"], yerr=g[\"y_std\"], marker=\"o\", capsize=4, label=f\"{dev} (p{pw})\")\n",
    "plt.xlabel(\"Number of nodes used\")\n",
    "plt.ylabel(\"Distribution time (s)\")\n",
    "plt.title(\"Distribution time vs nodes used\")\n",
    "plt.grid(True, ls=\":\"); plt.legend()\n",
    "savefig(results_dir, \"time_vs_nodes_distribution\")"
   ]
  },
  {
   "cell_type": "markdown",
   "id": "1bdcb2b1",
   "metadata": {},
   "source": [
    "## Time vs nodes — Splitters"
   ]
  },
  {
   "cell_type": "code",
   "execution_count": null,
   "id": "25ed6750",
   "metadata": {},
   "outputs": [],
   "source": [
    "plt.figure(figsize=(8,5))\n",
    "agg = (summary.groupby([\"device\",\"power\",\"nodes\"], as_index=False)\n",
    "             .agg(y_mean=(\"split_mean\",\"mean\"), y_std=(\"split_std\",\"mean\")))\n",
    "for (dev,pw), g in agg.sort_values([\"nodes\"]).groupby([\"device\",\"power\"]):\n",
    "    plt.errorbar(g[\"nodes\"], g[\"y_mean\"], yerr=g[\"y_std\"], marker=\"o\", capsize=4, label=f\"{dev} (p{pw})\")\n",
    "plt.xlabel(\"Number of nodes used\")\n",
    "plt.ylabel(\"Splitters time (s)\")\n",
    "plt.title(\"Splitters time vs nodes used\")\n",
    "plt.grid(True, ls=\":\"); plt.legend()\n",
    "savefig(results_dir, \"time_vs_nodes_splitters\")"
   ]
  },
  {
   "cell_type": "markdown",
   "id": "03233477",
   "metadata": {},
   "source": [
    "## Time vs nodes — Generation"
   ]
  },
  {
   "cell_type": "code",
   "execution_count": null,
   "id": "e931fef0",
   "metadata": {},
   "outputs": [],
   "source": [
    "plt.figure(figsize=(8,5))\n",
    "agg = (summary.groupby([\"device\",\"power\",\"nodes\"], as_index=False)\n",
    "             .agg(y_mean=(\"gen_mean\",\"mean\"), y_std=(\"gen_std\",\"mean\")))\n",
    "for (dev,pw), g in agg.sort_values([\"nodes\"]).groupby([\"device\",\"power\"]):\n",
    "    plt.errorbar(g[\"nodes\"], g[\"y_mean\"], yerr=g[\"y_std\"], marker=\"o\", capsize=4, label=f\"{dev} (p{pw})\")\n",
    "plt.xlabel(\"Number of nodes used\")\n",
    "plt.ylabel(\"Generation time (s)\")\n",
    "plt.title(\"Generation time vs nodes used\")\n",
    "plt.grid(True, ls=\":\"); plt.legend()\n",
    "savefig(results_dir, \"time_vs_nodes_generation\")"
   ]
  },
  {
   "cell_type": "markdown",
   "id": "80ffabcf",
   "metadata": {},
   "source": [
    "## Time vs nodes — Total"
   ]
  },
  {
   "cell_type": "code",
   "execution_count": null,
   "id": "5d526ccd",
   "metadata": {
    "lines_to_next_cell": 3
   },
   "outputs": [],
   "source": [
    "plt.figure(figsize=(8,5))\n",
    "agg = (summary.groupby([\"device\",\"power\",\"nodes\"], as_index=False)\n",
    "             .agg(y_mean=(\"total_mean\",\"mean\"), y_std=(\"total_std\",\"mean\")))\n",
    "for (dev,pw), g in agg.sort_values([\"nodes\"]).groupby([\"device\",\"power\"]):\n",
    "    plt.errorbar(g[\"nodes\"], g[\"y_mean\"], yerr=g[\"y_std\"], marker=\"o\", capsize=4, label=f\"{dev} (p{pw})\")\n",
    "plt.xlabel(\"Number of nodes used\")\n",
    "plt.ylabel(\"Total time (s)\")\n",
    "plt.title(\"Total time vs nodes used\")\n",
    "plt.grid(True, ls=\":\"); plt.legend()\n",
    "savefig(results_dir, \"time_vs_nodes_total\")"
   ]
  }
 ],
 "metadata": {
  "jupytext": {
   "cell_metadata_filter": "-all",
   "main_language": "python",
   "notebook_metadata_filter": "-all"
  }
 },
 "nbformat": 4,
 "nbformat_minor": 5
}
